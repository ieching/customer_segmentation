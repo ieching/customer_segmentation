{
 "cells": [
  {
   "cell_type": "markdown",
   "metadata": {},
   "source": [
    "## Importing Libraries"
   ]
  },
  {
   "cell_type": "code",
   "execution_count": 344,
   "metadata": {},
   "outputs": [],
   "source": [
    "# Data Analysis and Processing\n",
    "import numpy as np\n",
    "import pandas as pd\n",
    "import matplotlib.pyplot as plt\n",
    "from wordcloud import WordCloud\n",
    "\n",
    "# Natural Language Processing\n",
    "from sklearn.feature_extraction.text import CountVectorizer\n",
    "\n",
    "# Model Related\n",
    "from sklearn.preprocessing import MinMaxScaler\n",
    "from sklearn.model_selection import train_test_split\n",
    "from sklearn.cluster import KMeans\n",
    "\n",
    "# Evaluation\n",
    "from sklearn.metrics import silhouette_score"
   ]
  },
  {
   "cell_type": "code",
   "execution_count": 8,
   "metadata": {},
   "outputs": [],
   "source": [
    "df = pd.read_csv(\"data.csv\", encoding=\"ISO-8859-1\")"
   ]
  },
  {
   "cell_type": "markdown",
   "metadata": {},
   "source": [
    "## Preliminary Analysis and Processing"
   ]
  },
  {
   "cell_type": "code",
   "execution_count": 9,
   "metadata": {},
   "outputs": [
    {
     "data": {
      "text/html": [
       "<div>\n",
       "<style scoped>\n",
       "    .dataframe tbody tr th:only-of-type {\n",
       "        vertical-align: middle;\n",
       "    }\n",
       "\n",
       "    .dataframe tbody tr th {\n",
       "        vertical-align: top;\n",
       "    }\n",
       "\n",
       "    .dataframe thead th {\n",
       "        text-align: right;\n",
       "    }\n",
       "</style>\n",
       "<table border=\"1\" class=\"dataframe\">\n",
       "  <thead>\n",
       "    <tr style=\"text-align: right;\">\n",
       "      <th></th>\n",
       "      <th>InvoiceNo</th>\n",
       "      <th>StockCode</th>\n",
       "      <th>Description</th>\n",
       "      <th>Quantity</th>\n",
       "      <th>InvoiceDate</th>\n",
       "      <th>UnitPrice</th>\n",
       "      <th>CustomerID</th>\n",
       "      <th>Country</th>\n",
       "    </tr>\n",
       "  </thead>\n",
       "  <tbody>\n",
       "    <tr>\n",
       "      <th>0</th>\n",
       "      <td>536365</td>\n",
       "      <td>85123A</td>\n",
       "      <td>WHITE HANGING HEART T-LIGHT HOLDER</td>\n",
       "      <td>6</td>\n",
       "      <td>12/1/2010 8:26</td>\n",
       "      <td>2.55</td>\n",
       "      <td>17850.0</td>\n",
       "      <td>United Kingdom</td>\n",
       "    </tr>\n",
       "    <tr>\n",
       "      <th>1</th>\n",
       "      <td>536365</td>\n",
       "      <td>71053</td>\n",
       "      <td>WHITE METAL LANTERN</td>\n",
       "      <td>6</td>\n",
       "      <td>12/1/2010 8:26</td>\n",
       "      <td>3.39</td>\n",
       "      <td>17850.0</td>\n",
       "      <td>United Kingdom</td>\n",
       "    </tr>\n",
       "    <tr>\n",
       "      <th>2</th>\n",
       "      <td>536365</td>\n",
       "      <td>84406B</td>\n",
       "      <td>CREAM CUPID HEARTS COAT HANGER</td>\n",
       "      <td>8</td>\n",
       "      <td>12/1/2010 8:26</td>\n",
       "      <td>2.75</td>\n",
       "      <td>17850.0</td>\n",
       "      <td>United Kingdom</td>\n",
       "    </tr>\n",
       "    <tr>\n",
       "      <th>3</th>\n",
       "      <td>536365</td>\n",
       "      <td>84029G</td>\n",
       "      <td>KNITTED UNION FLAG HOT WATER BOTTLE</td>\n",
       "      <td>6</td>\n",
       "      <td>12/1/2010 8:26</td>\n",
       "      <td>3.39</td>\n",
       "      <td>17850.0</td>\n",
       "      <td>United Kingdom</td>\n",
       "    </tr>\n",
       "    <tr>\n",
       "      <th>4</th>\n",
       "      <td>536365</td>\n",
       "      <td>84029E</td>\n",
       "      <td>RED WOOLLY HOTTIE WHITE HEART.</td>\n",
       "      <td>6</td>\n",
       "      <td>12/1/2010 8:26</td>\n",
       "      <td>3.39</td>\n",
       "      <td>17850.0</td>\n",
       "      <td>United Kingdom</td>\n",
       "    </tr>\n",
       "  </tbody>\n",
       "</table>\n",
       "</div>"
      ],
      "text/plain": [
       "  InvoiceNo StockCode                          Description  Quantity  \\\n",
       "0    536365    85123A   WHITE HANGING HEART T-LIGHT HOLDER         6   \n",
       "1    536365     71053                  WHITE METAL LANTERN         6   \n",
       "2    536365    84406B       CREAM CUPID HEARTS COAT HANGER         8   \n",
       "3    536365    84029G  KNITTED UNION FLAG HOT WATER BOTTLE         6   \n",
       "4    536365    84029E       RED WOOLLY HOTTIE WHITE HEART.         6   \n",
       "\n",
       "      InvoiceDate  UnitPrice  CustomerID         Country  \n",
       "0  12/1/2010 8:26       2.55     17850.0  United Kingdom  \n",
       "1  12/1/2010 8:26       3.39     17850.0  United Kingdom  \n",
       "2  12/1/2010 8:26       2.75     17850.0  United Kingdom  \n",
       "3  12/1/2010 8:26       3.39     17850.0  United Kingdom  \n",
       "4  12/1/2010 8:26       3.39     17850.0  United Kingdom  "
      ]
     },
     "execution_count": 9,
     "metadata": {},
     "output_type": "execute_result"
    }
   ],
   "source": [
    "df.head()"
   ]
  },
  {
   "cell_type": "code",
   "execution_count": 10,
   "metadata": {},
   "outputs": [
    {
     "name": "stdout",
     "output_type": "stream",
     "text": [
      "<class 'pandas.core.frame.DataFrame'>\n",
      "RangeIndex: 541909 entries, 0 to 541908\n",
      "Data columns (total 8 columns):\n",
      "InvoiceNo      541909 non-null object\n",
      "StockCode      541909 non-null object\n",
      "Description    540455 non-null object\n",
      "Quantity       541909 non-null int64\n",
      "InvoiceDate    541909 non-null object\n",
      "UnitPrice      541909 non-null float64\n",
      "CustomerID     406829 non-null float64\n",
      "Country        541909 non-null object\n",
      "dtypes: float64(2), int64(1), object(5)\n",
      "memory usage: 33.1+ MB\n"
     ]
    }
   ],
   "source": [
    "df.info()"
   ]
  },
  {
   "cell_type": "code",
   "execution_count": 13,
   "metadata": {},
   "outputs": [
    {
     "data": {
      "text/html": [
       "<div>\n",
       "<style scoped>\n",
       "    .dataframe tbody tr th:only-of-type {\n",
       "        vertical-align: middle;\n",
       "    }\n",
       "\n",
       "    .dataframe tbody tr th {\n",
       "        vertical-align: top;\n",
       "    }\n",
       "\n",
       "    .dataframe thead th {\n",
       "        text-align: right;\n",
       "    }\n",
       "</style>\n",
       "<table border=\"1\" class=\"dataframe\">\n",
       "  <thead>\n",
       "    <tr style=\"text-align: right;\">\n",
       "      <th></th>\n",
       "      <th>Quantity</th>\n",
       "      <th>UnitPrice</th>\n",
       "    </tr>\n",
       "  </thead>\n",
       "  <tbody>\n",
       "    <tr>\n",
       "      <th>count</th>\n",
       "      <td>541909.000000</td>\n",
       "      <td>541909.000000</td>\n",
       "    </tr>\n",
       "    <tr>\n",
       "      <th>mean</th>\n",
       "      <td>9.552250</td>\n",
       "      <td>4.611114</td>\n",
       "    </tr>\n",
       "    <tr>\n",
       "      <th>std</th>\n",
       "      <td>218.081158</td>\n",
       "      <td>96.759853</td>\n",
       "    </tr>\n",
       "    <tr>\n",
       "      <th>min</th>\n",
       "      <td>-80995.000000</td>\n",
       "      <td>-11062.060000</td>\n",
       "    </tr>\n",
       "    <tr>\n",
       "      <th>25%</th>\n",
       "      <td>1.000000</td>\n",
       "      <td>1.250000</td>\n",
       "    </tr>\n",
       "    <tr>\n",
       "      <th>50%</th>\n",
       "      <td>3.000000</td>\n",
       "      <td>2.080000</td>\n",
       "    </tr>\n",
       "    <tr>\n",
       "      <th>75%</th>\n",
       "      <td>10.000000</td>\n",
       "      <td>4.130000</td>\n",
       "    </tr>\n",
       "    <tr>\n",
       "      <th>max</th>\n",
       "      <td>80995.000000</td>\n",
       "      <td>38970.000000</td>\n",
       "    </tr>\n",
       "  </tbody>\n",
       "</table>\n",
       "</div>"
      ],
      "text/plain": [
       "            Quantity      UnitPrice\n",
       "count  541909.000000  541909.000000\n",
       "mean        9.552250       4.611114\n",
       "std       218.081158      96.759853\n",
       "min    -80995.000000  -11062.060000\n",
       "25%         1.000000       1.250000\n",
       "50%         3.000000       2.080000\n",
       "75%        10.000000       4.130000\n",
       "max     80995.000000   38970.000000"
      ]
     },
     "execution_count": 13,
     "metadata": {},
     "output_type": "execute_result"
    }
   ],
   "source": [
    "df[['Quantity', 'UnitPrice']].describe()"
   ]
  },
  {
   "cell_type": "code",
   "execution_count": 20,
   "metadata": {},
   "outputs": [
    {
     "data": {
      "text/plain": [
       "4372"
      ]
     },
     "execution_count": 20,
     "metadata": {},
     "output_type": "execute_result"
    }
   ],
   "source": [
    "df['CustomerID'].nunique()"
   ]
  },
  {
   "cell_type": "code",
   "execution_count": 25,
   "metadata": {},
   "outputs": [
    {
     "data": {
      "text/html": [
       "<div>\n",
       "<style scoped>\n",
       "    .dataframe tbody tr th:only-of-type {\n",
       "        vertical-align: middle;\n",
       "    }\n",
       "\n",
       "    .dataframe tbody tr th {\n",
       "        vertical-align: top;\n",
       "    }\n",
       "\n",
       "    .dataframe thead th {\n",
       "        text-align: right;\n",
       "    }\n",
       "</style>\n",
       "<table border=\"1\" class=\"dataframe\">\n",
       "  <thead>\n",
       "    <tr style=\"text-align: right;\">\n",
       "      <th></th>\n",
       "      <th>InvoiceNo</th>\n",
       "      <th>StockCode</th>\n",
       "      <th>Description</th>\n",
       "      <th>Quantity</th>\n",
       "      <th>InvoiceDate</th>\n",
       "      <th>UnitPrice</th>\n",
       "      <th>CustomerID</th>\n",
       "      <th>Country</th>\n",
       "    </tr>\n",
       "  </thead>\n",
       "  <tbody>\n",
       "    <tr>\n",
       "      <th>622</th>\n",
       "      <td>536414</td>\n",
       "      <td>22139</td>\n",
       "      <td>NaN</td>\n",
       "      <td>56</td>\n",
       "      <td>12/1/2010 11:52</td>\n",
       "      <td>0.00</td>\n",
       "      <td>NaN</td>\n",
       "      <td>United Kingdom</td>\n",
       "    </tr>\n",
       "    <tr>\n",
       "      <th>1443</th>\n",
       "      <td>536544</td>\n",
       "      <td>21773</td>\n",
       "      <td>DECORATIVE ROSE BATHROOM BOTTLE</td>\n",
       "      <td>1</td>\n",
       "      <td>12/1/2010 14:32</td>\n",
       "      <td>2.51</td>\n",
       "      <td>NaN</td>\n",
       "      <td>United Kingdom</td>\n",
       "    </tr>\n",
       "    <tr>\n",
       "      <th>1444</th>\n",
       "      <td>536544</td>\n",
       "      <td>21774</td>\n",
       "      <td>DECORATIVE CATS BATHROOM BOTTLE</td>\n",
       "      <td>2</td>\n",
       "      <td>12/1/2010 14:32</td>\n",
       "      <td>2.51</td>\n",
       "      <td>NaN</td>\n",
       "      <td>United Kingdom</td>\n",
       "    </tr>\n",
       "    <tr>\n",
       "      <th>1445</th>\n",
       "      <td>536544</td>\n",
       "      <td>21786</td>\n",
       "      <td>POLKADOT RAIN HAT</td>\n",
       "      <td>4</td>\n",
       "      <td>12/1/2010 14:32</td>\n",
       "      <td>0.85</td>\n",
       "      <td>NaN</td>\n",
       "      <td>United Kingdom</td>\n",
       "    </tr>\n",
       "    <tr>\n",
       "      <th>1446</th>\n",
       "      <td>536544</td>\n",
       "      <td>21787</td>\n",
       "      <td>RAIN PONCHO RETROSPOT</td>\n",
       "      <td>2</td>\n",
       "      <td>12/1/2010 14:32</td>\n",
       "      <td>1.66</td>\n",
       "      <td>NaN</td>\n",
       "      <td>United Kingdom</td>\n",
       "    </tr>\n",
       "  </tbody>\n",
       "</table>\n",
       "</div>"
      ],
      "text/plain": [
       "     InvoiceNo StockCode                      Description  Quantity  \\\n",
       "622     536414     22139                              NaN        56   \n",
       "1443    536544     21773  DECORATIVE ROSE BATHROOM BOTTLE         1   \n",
       "1444    536544     21774  DECORATIVE CATS BATHROOM BOTTLE         2   \n",
       "1445    536544     21786               POLKADOT RAIN HAT          4   \n",
       "1446    536544     21787            RAIN PONCHO RETROSPOT         2   \n",
       "\n",
       "          InvoiceDate  UnitPrice  CustomerID         Country  \n",
       "622   12/1/2010 11:52       0.00         NaN  United Kingdom  \n",
       "1443  12/1/2010 14:32       2.51         NaN  United Kingdom  \n",
       "1444  12/1/2010 14:32       2.51         NaN  United Kingdom  \n",
       "1445  12/1/2010 14:32       0.85         NaN  United Kingdom  \n",
       "1446  12/1/2010 14:32       1.66         NaN  United Kingdom  "
      ]
     },
     "execution_count": 25,
     "metadata": {},
     "output_type": "execute_result"
    }
   ],
   "source": [
    "df[df['CustomerID'].isna()].head()"
   ]
  },
  {
   "cell_type": "code",
   "execution_count": 30,
   "metadata": {},
   "outputs": [
    {
     "data": {
      "text/html": [
       "<div>\n",
       "<style scoped>\n",
       "    .dataframe tbody tr th:only-of-type {\n",
       "        vertical-align: middle;\n",
       "    }\n",
       "\n",
       "    .dataframe tbody tr th {\n",
       "        vertical-align: top;\n",
       "    }\n",
       "\n",
       "    .dataframe thead th {\n",
       "        text-align: right;\n",
       "    }\n",
       "</style>\n",
       "<table border=\"1\" class=\"dataframe\">\n",
       "  <thead>\n",
       "    <tr style=\"text-align: right;\">\n",
       "      <th></th>\n",
       "      <th>InvoiceNo</th>\n",
       "      <th>StockCode</th>\n",
       "      <th>Description</th>\n",
       "      <th>Quantity</th>\n",
       "      <th>InvoiceDate</th>\n",
       "      <th>UnitPrice</th>\n",
       "      <th>CustomerID</th>\n",
       "      <th>Country</th>\n",
       "    </tr>\n",
       "  </thead>\n",
       "  <tbody>\n",
       "    <tr>\n",
       "      <th>622</th>\n",
       "      <td>536414</td>\n",
       "      <td>22139</td>\n",
       "      <td>NaN</td>\n",
       "      <td>56</td>\n",
       "      <td>12/1/2010 11:52</td>\n",
       "      <td>0.0</td>\n",
       "      <td>NaN</td>\n",
       "      <td>United Kingdom</td>\n",
       "    </tr>\n",
       "    <tr>\n",
       "      <th>1970</th>\n",
       "      <td>536545</td>\n",
       "      <td>21134</td>\n",
       "      <td>NaN</td>\n",
       "      <td>1</td>\n",
       "      <td>12/1/2010 14:32</td>\n",
       "      <td>0.0</td>\n",
       "      <td>NaN</td>\n",
       "      <td>United Kingdom</td>\n",
       "    </tr>\n",
       "    <tr>\n",
       "      <th>1971</th>\n",
       "      <td>536546</td>\n",
       "      <td>22145</td>\n",
       "      <td>NaN</td>\n",
       "      <td>1</td>\n",
       "      <td>12/1/2010 14:33</td>\n",
       "      <td>0.0</td>\n",
       "      <td>NaN</td>\n",
       "      <td>United Kingdom</td>\n",
       "    </tr>\n",
       "    <tr>\n",
       "      <th>1972</th>\n",
       "      <td>536547</td>\n",
       "      <td>37509</td>\n",
       "      <td>NaN</td>\n",
       "      <td>1</td>\n",
       "      <td>12/1/2010 14:33</td>\n",
       "      <td>0.0</td>\n",
       "      <td>NaN</td>\n",
       "      <td>United Kingdom</td>\n",
       "    </tr>\n",
       "    <tr>\n",
       "      <th>1987</th>\n",
       "      <td>536549</td>\n",
       "      <td>85226A</td>\n",
       "      <td>NaN</td>\n",
       "      <td>1</td>\n",
       "      <td>12/1/2010 14:34</td>\n",
       "      <td>0.0</td>\n",
       "      <td>NaN</td>\n",
       "      <td>United Kingdom</td>\n",
       "    </tr>\n",
       "  </tbody>\n",
       "</table>\n",
       "</div>"
      ],
      "text/plain": [
       "     InvoiceNo StockCode Description  Quantity      InvoiceDate  UnitPrice  \\\n",
       "622     536414     22139         NaN        56  12/1/2010 11:52        0.0   \n",
       "1970    536545     21134         NaN         1  12/1/2010 14:32        0.0   \n",
       "1971    536546     22145         NaN         1  12/1/2010 14:33        0.0   \n",
       "1972    536547     37509         NaN         1  12/1/2010 14:33        0.0   \n",
       "1987    536549    85226A         NaN         1  12/1/2010 14:34        0.0   \n",
       "\n",
       "      CustomerID         Country  \n",
       "622          NaN  United Kingdom  \n",
       "1970         NaN  United Kingdom  \n",
       "1971         NaN  United Kingdom  \n",
       "1972         NaN  United Kingdom  \n",
       "1987         NaN  United Kingdom  "
      ]
     },
     "execution_count": 30,
     "metadata": {},
     "output_type": "execute_result"
    }
   ],
   "source": [
    "df[df['UnitPrice'] == 0].head()"
   ]
  },
  {
   "cell_type": "code",
   "execution_count": 35,
   "metadata": {},
   "outputs": [],
   "source": [
    "# Dropping those with unit price 0, as we assume it is cancelled or a mistake\n",
    "df = df.drop(df[df['UnitPrice'] == 0].index, axis = 0)"
   ]
  },
  {
   "cell_type": "code",
   "execution_count": 62,
   "metadata": {},
   "outputs": [
    {
     "name": "stdout",
     "output_type": "stream",
     "text": [
      "<class 'pandas.core.frame.DataFrame'>\n",
      "Int64Index: 539394 entries, 0 to 541908\n",
      "Data columns (total 8 columns):\n",
      "InvoiceNo      539394 non-null object\n",
      "StockCode      539394 non-null object\n",
      "Description    539394 non-null object\n",
      "Quantity       539394 non-null int64\n",
      "InvoiceDate    539394 non-null object\n",
      "UnitPrice      539394 non-null float64\n",
      "CustomerID     406789 non-null float64\n",
      "Country        539394 non-null object\n",
      "dtypes: float64(2), int64(1), object(5)\n",
      "memory usage: 37.0+ MB\n"
     ]
    }
   ],
   "source": [
    "df.info()"
   ]
  },
  {
   "cell_type": "code",
   "execution_count": 64,
   "metadata": {},
   "outputs": [
    {
     "data": {
      "text/html": [
       "<div>\n",
       "<style scoped>\n",
       "    .dataframe tbody tr th:only-of-type {\n",
       "        vertical-align: middle;\n",
       "    }\n",
       "\n",
       "    .dataframe tbody tr th {\n",
       "        vertical-align: top;\n",
       "    }\n",
       "\n",
       "    .dataframe thead th {\n",
       "        text-align: right;\n",
       "    }\n",
       "</style>\n",
       "<table border=\"1\" class=\"dataframe\">\n",
       "  <thead>\n",
       "    <tr style=\"text-align: right;\">\n",
       "      <th></th>\n",
       "      <th>InvoiceNo</th>\n",
       "      <th>StockCode</th>\n",
       "      <th>Description</th>\n",
       "      <th>Quantity</th>\n",
       "      <th>InvoiceDate</th>\n",
       "      <th>UnitPrice</th>\n",
       "      <th>CustomerID</th>\n",
       "      <th>Country</th>\n",
       "    </tr>\n",
       "  </thead>\n",
       "  <tbody>\n",
       "    <tr>\n",
       "      <th>1443</th>\n",
       "      <td>536544</td>\n",
       "      <td>21773</td>\n",
       "      <td>DECORATIVE ROSE BATHROOM BOTTLE</td>\n",
       "      <td>1</td>\n",
       "      <td>12/1/2010 14:32</td>\n",
       "      <td>2.51</td>\n",
       "      <td>NaN</td>\n",
       "      <td>United Kingdom</td>\n",
       "    </tr>\n",
       "    <tr>\n",
       "      <th>1444</th>\n",
       "      <td>536544</td>\n",
       "      <td>21774</td>\n",
       "      <td>DECORATIVE CATS BATHROOM BOTTLE</td>\n",
       "      <td>2</td>\n",
       "      <td>12/1/2010 14:32</td>\n",
       "      <td>2.51</td>\n",
       "      <td>NaN</td>\n",
       "      <td>United Kingdom</td>\n",
       "    </tr>\n",
       "    <tr>\n",
       "      <th>1445</th>\n",
       "      <td>536544</td>\n",
       "      <td>21786</td>\n",
       "      <td>POLKADOT RAIN HAT</td>\n",
       "      <td>4</td>\n",
       "      <td>12/1/2010 14:32</td>\n",
       "      <td>0.85</td>\n",
       "      <td>NaN</td>\n",
       "      <td>United Kingdom</td>\n",
       "    </tr>\n",
       "    <tr>\n",
       "      <th>1446</th>\n",
       "      <td>536544</td>\n",
       "      <td>21787</td>\n",
       "      <td>RAIN PONCHO RETROSPOT</td>\n",
       "      <td>2</td>\n",
       "      <td>12/1/2010 14:32</td>\n",
       "      <td>1.66</td>\n",
       "      <td>NaN</td>\n",
       "      <td>United Kingdom</td>\n",
       "    </tr>\n",
       "    <tr>\n",
       "      <th>1447</th>\n",
       "      <td>536544</td>\n",
       "      <td>21790</td>\n",
       "      <td>VINTAGE SNAP CARDS</td>\n",
       "      <td>9</td>\n",
       "      <td>12/1/2010 14:32</td>\n",
       "      <td>1.66</td>\n",
       "      <td>NaN</td>\n",
       "      <td>United Kingdom</td>\n",
       "    </tr>\n",
       "  </tbody>\n",
       "</table>\n",
       "</div>"
      ],
      "text/plain": [
       "     InvoiceNo StockCode                      Description  Quantity  \\\n",
       "1443    536544     21773  DECORATIVE ROSE BATHROOM BOTTLE         1   \n",
       "1444    536544     21774  DECORATIVE CATS BATHROOM BOTTLE         2   \n",
       "1445    536544     21786               POLKADOT RAIN HAT          4   \n",
       "1446    536544     21787            RAIN PONCHO RETROSPOT         2   \n",
       "1447    536544     21790               VINTAGE SNAP CARDS         9   \n",
       "\n",
       "          InvoiceDate  UnitPrice  CustomerID         Country  \n",
       "1443  12/1/2010 14:32       2.51         NaN  United Kingdom  \n",
       "1444  12/1/2010 14:32       2.51         NaN  United Kingdom  \n",
       "1445  12/1/2010 14:32       0.85         NaN  United Kingdom  \n",
       "1446  12/1/2010 14:32       1.66         NaN  United Kingdom  \n",
       "1447  12/1/2010 14:32       1.66         NaN  United Kingdom  "
      ]
     },
     "execution_count": 64,
     "metadata": {},
     "output_type": "execute_result"
    }
   ],
   "source": [
    "df[df['CustomerID'].isna()].head()"
   ]
  },
  {
   "cell_type": "code",
   "execution_count": 49,
   "metadata": {},
   "outputs": [],
   "source": [
    "# Getting the unique invoice numbers for purchases without a customer ID\n",
    "unique_invoiceNo = df[df['CustomerID'].isna()]['InvoiceNo'].unique()"
   ]
  },
  {
   "cell_type": "code",
   "execution_count": 51,
   "metadata": {},
   "outputs": [
    {
     "data": {
      "text/plain": [
       "1612"
      ]
     },
     "execution_count": 51,
     "metadata": {},
     "output_type": "execute_result"
    }
   ],
   "source": [
    "len(unique_invoiceNo)"
   ]
  },
  {
   "cell_type": "code",
   "execution_count": 53,
   "metadata": {},
   "outputs": [
    {
     "data": {
      "text/plain": [
       "23798"
      ]
     },
     "execution_count": 53,
     "metadata": {},
     "output_type": "execute_result"
    }
   ],
   "source": [
    "df['InvoiceNo'].nunique()\n",
    "# The missing customer IDs make up a small portion of the data"
   ]
  },
  {
   "cell_type": "code",
   "execution_count": 66,
   "metadata": {},
   "outputs": [
    {
     "data": {
      "text/plain": [
       "0"
      ]
     },
     "execution_count": 66,
     "metadata": {},
     "output_type": "execute_result"
    }
   ],
   "source": [
    "sum(df[df['InvoiceNo'].isin(unique_invoiceNo)]['CustomerID'].isna() == False)\n",
    "# There is no customer ID to compare with per invoice"
   ]
  },
  {
   "cell_type": "code",
   "execution_count": 74,
   "metadata": {},
   "outputs": [
    {
     "data": {
      "text/html": [
       "<div>\n",
       "<style scoped>\n",
       "    .dataframe tbody tr th:only-of-type {\n",
       "        vertical-align: middle;\n",
       "    }\n",
       "\n",
       "    .dataframe tbody tr th {\n",
       "        vertical-align: top;\n",
       "    }\n",
       "\n",
       "    .dataframe thead th {\n",
       "        text-align: right;\n",
       "    }\n",
       "</style>\n",
       "<table border=\"1\" class=\"dataframe\">\n",
       "  <thead>\n",
       "    <tr style=\"text-align: right;\">\n",
       "      <th></th>\n",
       "      <th>InvoiceNo</th>\n",
       "      <th>StockCode</th>\n",
       "      <th>Description</th>\n",
       "      <th>Quantity</th>\n",
       "      <th>InvoiceDate</th>\n",
       "      <th>UnitPrice</th>\n",
       "      <th>CustomerID</th>\n",
       "      <th>Country</th>\n",
       "    </tr>\n",
       "  </thead>\n",
       "  <tbody>\n",
       "    <tr>\n",
       "      <th>299983</th>\n",
       "      <td>A563186</td>\n",
       "      <td>B</td>\n",
       "      <td>Adjust bad debt</td>\n",
       "      <td>1</td>\n",
       "      <td>8/12/2011 14:51</td>\n",
       "      <td>-11062.06</td>\n",
       "      <td>NaN</td>\n",
       "      <td>United Kingdom</td>\n",
       "    </tr>\n",
       "    <tr>\n",
       "      <th>299984</th>\n",
       "      <td>A563187</td>\n",
       "      <td>B</td>\n",
       "      <td>Adjust bad debt</td>\n",
       "      <td>1</td>\n",
       "      <td>8/12/2011 14:52</td>\n",
       "      <td>-11062.06</td>\n",
       "      <td>NaN</td>\n",
       "      <td>United Kingdom</td>\n",
       "    </tr>\n",
       "  </tbody>\n",
       "</table>\n",
       "</div>"
      ],
      "text/plain": [
       "       InvoiceNo StockCode      Description  Quantity      InvoiceDate  \\\n",
       "299983   A563186         B  Adjust bad debt         1  8/12/2011 14:51   \n",
       "299984   A563187         B  Adjust bad debt         1  8/12/2011 14:52   \n",
       "\n",
       "        UnitPrice  CustomerID         Country  \n",
       "299983  -11062.06         NaN  United Kingdom  \n",
       "299984  -11062.06         NaN  United Kingdom  "
      ]
     },
     "execution_count": 74,
     "metadata": {},
     "output_type": "execute_result"
    }
   ],
   "source": [
    "df[df['UnitPrice'] < 0]"
   ]
  },
  {
   "cell_type": "code",
   "execution_count": 83,
   "metadata": {},
   "outputs": [
    {
     "data": {
      "text/html": [
       "<div>\n",
       "<style scoped>\n",
       "    .dataframe tbody tr th:only-of-type {\n",
       "        vertical-align: middle;\n",
       "    }\n",
       "\n",
       "    .dataframe tbody tr th {\n",
       "        vertical-align: top;\n",
       "    }\n",
       "\n",
       "    .dataframe thead th {\n",
       "        text-align: right;\n",
       "    }\n",
       "</style>\n",
       "<table border=\"1\" class=\"dataframe\">\n",
       "  <thead>\n",
       "    <tr style=\"text-align: right;\">\n",
       "      <th></th>\n",
       "      <th>InvoiceNo</th>\n",
       "      <th>StockCode</th>\n",
       "      <th>Description</th>\n",
       "      <th>Quantity</th>\n",
       "      <th>InvoiceDate</th>\n",
       "      <th>UnitPrice</th>\n",
       "      <th>CustomerID</th>\n",
       "      <th>Country</th>\n",
       "    </tr>\n",
       "  </thead>\n",
       "  <tbody>\n",
       "    <tr>\n",
       "      <th>299982</th>\n",
       "      <td>A563185</td>\n",
       "      <td>B</td>\n",
       "      <td>Adjust bad debt</td>\n",
       "      <td>1</td>\n",
       "      <td>8/12/2011 14:50</td>\n",
       "      <td>11062.06</td>\n",
       "      <td>NaN</td>\n",
       "      <td>United Kingdom</td>\n",
       "    </tr>\n",
       "  </tbody>\n",
       "</table>\n",
       "</div>"
      ],
      "text/plain": [
       "       InvoiceNo StockCode      Description  Quantity      InvoiceDate  \\\n",
       "299982   A563185         B  Adjust bad debt         1  8/12/2011 14:50   \n",
       "\n",
       "        UnitPrice  CustomerID         Country  \n",
       "299982   11062.06         NaN  United Kingdom  "
      ]
     },
     "execution_count": 83,
     "metadata": {},
     "output_type": "execute_result"
    }
   ],
   "source": [
    "# We look at the invoices prior\n",
    "df[df['InvoiceNo'] == 'A563185']"
   ]
  },
  {
   "cell_type": "code",
   "execution_count": 87,
   "metadata": {},
   "outputs": [],
   "source": [
    "# Since we are going to drop the missing customer IDs, we can ignore this problem for now\n",
    "df = df.drop(df[df['CustomerID'].isna()].index, axis = 0)"
   ]
  },
  {
   "cell_type": "code",
   "execution_count": 259,
   "metadata": {},
   "outputs": [
    {
     "name": "stdout",
     "output_type": "stream",
     "text": [
      "<class 'pandas.core.frame.DataFrame'>\n",
      "Int64Index: 406789 entries, 0 to 541908\n",
      "Data columns (total 8 columns):\n",
      "InvoiceNo      406789 non-null object\n",
      "StockCode      406789 non-null object\n",
      "Description    406789 non-null object\n",
      "Quantity       406789 non-null int64\n",
      "InvoiceDate    406789 non-null object\n",
      "UnitPrice      406789 non-null float64\n",
      "CustomerID     406789 non-null float64\n",
      "Country        406789 non-null object\n",
      "dtypes: float64(2), int64(1), object(5)\n",
      "memory usage: 27.9+ MB\n"
     ]
    }
   ],
   "source": [
    "df.info()"
   ]
  },
  {
   "cell_type": "code",
   "execution_count": 271,
   "metadata": {},
   "outputs": [],
   "source": [
    "# Reducing sample to increase speed as working on whole data takes too long to run\n",
    "sample_df = df.sample(10000, random_state = 1)"
   ]
  },
  {
   "cell_type": "markdown",
   "metadata": {},
   "source": [
    "## Product Segmentation"
   ]
  },
  {
   "cell_type": "code",
   "execution_count": 275,
   "metadata": {},
   "outputs": [],
   "source": [
    "# We extract just the description of the products\n",
    "products_df = sample_df['Description']"
   ]
  },
  {
   "cell_type": "code",
   "execution_count": 315,
   "metadata": {},
   "outputs": [],
   "source": [
    "# Removing stopwords, colors, and lemmatizing\n",
    "def clean_data(description):\n",
    "    wnl = WordNetLemmatizer()\n",
    "    # Removing stopwords and lemmatizing\n",
    "    cleaned = [wnl.lemmatize(word) for word in description.lower().split() if not word in set(stopwords.words('english'))]\n",
    "    # Removing colors\n",
    "    cleaned = [word for word in cleaned if not word in ['pink', 'blue', 'green', 'orange', 'red']]\n",
    "    cleaned = ' '.join(cleaned).upper()\n",
    "    return cleaned\n",
    "\n",
    "products = products_df.apply(lambda x: clean_data(x)).values"
   ]
  },
  {
   "cell_type": "code",
   "execution_count": 316,
   "metadata": {},
   "outputs": [
    {
     "data": {
      "text/plain": [
       "array(['ASSORTED COLOUR BIRD ORNAMENT', 'CHILDRENS CUTLERY DOLLY GIRL',\n",
       "       'DOORMAT SPOTTY HOME SWEET HOME', ..., 'PARTY TIME PENCIL ERASER',\n",
       "       'ALARM CLOCK BAKELIKE CHOCOLATE', 'SCANDINAVIAN PAISLEY WRAP'],\n",
       "      dtype=object)"
      ]
     },
     "execution_count": 316,
     "metadata": {},
     "output_type": "execute_result"
    }
   ],
   "source": [
    "products"
   ]
  },
  {
   "cell_type": "code",
   "execution_count": 317,
   "metadata": {},
   "outputs": [],
   "source": [
    "# We convert the descriptions into a bag of words model\n",
    "bow_transformer = CountVectorizer(max_features = 200).fit(products)\n",
    "bow = bow_transformer.transform(products)"
   ]
  },
  {
   "cell_type": "code",
   "execution_count": 318,
   "metadata": {},
   "outputs": [],
   "source": [
    "# We order the words by the most frequent\n",
    "sum_words = bow.sum(axis=0)\n",
    "words_freq = [(word, sum_words[0, idx]) for word, idx in bow_transformer.vocabulary_.items()]\n",
    "words_freq = sorted(words_freq, key = lambda x: x[1], reverse=True)"
   ]
  },
  {
   "cell_type": "code",
   "execution_count": 319,
   "metadata": {},
   "outputs": [],
   "source": [
    "x = [x for x, y in words_freq[:20]]\n",
    "y = [y for x, y in words_freq[:20]]"
   ]
  },
  {
   "cell_type": "code",
   "execution_count": 320,
   "metadata": {},
   "outputs": [
    {
     "data": {
      "text/plain": [
       "<BarContainer object of 20 artists>"
      ]
     },
     "execution_count": 320,
     "metadata": {},
     "output_type": "execute_result"
    },
    {
     "data": {
      "image/png": "[encoded data removed]",
      "text/plain": [
       "<Figure size 1440x720 with 1 Axes>"
      ]
     },
     "metadata": {
      "needs_background": "light"
     },
     "output_type": "display_data"
    }
   ],
   "source": [
    "# Looking at the top 20 words\n",
    "plt.figure(figsize=(20,10))\n",
    "plt.bar(x,y)"
   ]
  },
  {
   "cell_type": "code",
   "execution_count": 325,
   "metadata": {},
   "outputs": [
    {
     "name": "stdout",
     "output_type": "stream",
     "text": [
      "For n_clusters = 2 The average silhouette_score is : 0.06307561802307259\n",
      "For n_clusters = 3 The average silhouette_score is : 0.07978130414660174\n",
      "For n_clusters = 4 The average silhouette_score is : 0.08710541753854405\n",
      "For n_clusters = 5 The average silhouette_score is : 0.060994472577685005\n",
      "For n_clusters = 6 The average silhouette_score is : 0.07024704053151586\n",
      "For n_clusters = 7 The average silhouette_score is : 0.07894175510244161\n",
      "For n_clusters = 8 The average silhouette_score is : 0.0810882909228757\n",
      "For n_clusters = 9 The average silhouette_score is : 0.09960154922873984\n",
      "For n_clusters = 10 The average silhouette_score is : 0.10113388918817098\n",
      "For n_clusters = 11 The average silhouette_score is : 0.10172224638064346\n",
      "For n_clusters = 12 The average silhouette_score is : 0.09687784278364718\n",
      "For n_clusters = 13 The average silhouette_score is : 0.09869934476812992\n",
      "For n_clusters = 14 The average silhouette_score is : 0.11863401583365553\n",
      "For n_clusters = 15 The average silhouette_score is : 0.11719912426646656\n",
      "For n_clusters = 16 The average silhouette_score is : 0.1128264659035206\n",
      "For n_clusters = 17 The average silhouette_score is : 0.11863463604705585\n",
      "For n_clusters = 18 The average silhouette_score is : 0.12547357815760998\n",
      "For n_clusters = 19 The average silhouette_score is : 0.12731542133144616\n"
     ]
    }
   ],
   "source": [
    "# Calculating silhouette score for different cluster numbers\n",
    "for n_clusters in range(2,20):\n",
    "    kmeans = KMeans(n_clusters = n_clusters, init=\"k-means++\")\n",
    "    kmeans.fit(bow)\n",
    "    clusters = kmeans.predict(bow)\n",
    "    silhouette_avg = silhouette_score(bow, clusters)\n",
    "    print(\"For n_clusters =\", n_clusters, \"The average silhouette_score is :\", silhouette_avg)"
   ]
  },
  {
   "cell_type": "code",
   "execution_count": 326,
   "metadata": {},
   "outputs": [
    {
     "data": {
      "image/png": "[encoded data removed]",
      "text/plain": [
       "<Figure size 432x288 with 1 Axes>"
      ]
     },
     "metadata": {
      "needs_background": "light"
     },
     "output_type": "display_data"
    }
   ],
   "source": [
    "# Using the elbow method\n",
    "wcss = []\n",
    "for n_clusters in range(2,20):\n",
    "    kmeans = KMeans(n_clusters=n_clusters, init=\"k-means++\")\n",
    "    kmeans.fit(bow)\n",
    "    wcss.append(kmeans.inertia_)\n",
    "    \n",
    "plt.figure()\n",
    "plt.plot(range(2,20), wcss)\n",
    "plt.show()"
   ]
  },
  {
   "cell_type": "code",
   "execution_count": 334,
   "metadata": {},
   "outputs": [
    {
     "data": {
      "text/plain": [
       "KMeans(algorithm='auto', copy_x=True, init='k-means++', max_iter=300,\n",
       "       n_clusters=10, n_init=10, n_jobs=None, precompute_distances='auto',\n",
       "       random_state=None, tol=0.0001, verbose=0)"
      ]
     },
     "execution_count": 334,
     "metadata": {},
     "output_type": "execute_result"
    }
   ],
   "source": [
    "# Both methods do not give a definitive k value, hence we will use 10 clusters (k = 10)\n",
    "K_value = 10\n",
    "\n",
    "kmeans = KMeans(n_clusters=K_value, init=\"k-means++\")\n",
    "kmeans.fit(bow)"
   ]
  },
  {
   "cell_type": "code",
   "execution_count": 335,
   "metadata": {},
   "outputs": [],
   "source": [
    "order_centroids = kmeans.cluster_centers_.argsort()[:, ::-1]\n",
    "terms = bow_transformer.get_feature_names()"
   ]
  },
  {
   "cell_type": "code",
   "execution_count": 341,
   "metadata": {},
   "outputs": [
    {
     "name": "stdout",
     "output_type": "stream",
     "text": [
      "Cluster 0:\n",
      " assorted\n",
      " colour\n",
      " bird\n",
      " magnet\n",
      " metal\n",
      " case\n",
      " mini\n",
      " notebook\n",
      " egg\n",
      " set\n",
      "Cluster 1:\n",
      " home\n",
      " sweet\n",
      " doormat\n",
      " heart\n",
      " hanging\n",
      " metal\n",
      " sign\n",
      " spotty\n",
      " cushion\n",
      " cover\n",
      "Cluster 2:\n",
      " metal\n",
      " french\n",
      " sign\n",
      " door\n",
      " hook\n",
      " kitchen\n",
      " garden\n",
      " zinc\n",
      " egg\n",
      " edwardian\n",
      "Cluster 3:\n",
      " bag\n",
      " jumbo\n",
      " lunch\n",
      " retrospot\n",
      " vintage\n",
      " paisley\n",
      " polkadot\n",
      " charlotte\n",
      " woodland\n",
      " skull\n",
      "Cluster 4:\n",
      " heart\n",
      " hanging\n",
      " holder\n",
      " white\n",
      " light\n",
      " wicker\n",
      " decoration\n",
      " large\n",
      " small\n",
      " zinc\n",
      "Cluster 5:\n",
      " box\n",
      " vintage\n",
      " retrospot\n",
      " christmas\n",
      " light\n",
      " design\n",
      " card\n",
      " white\n",
      " glass\n",
      " pack\n",
      "Cluster 6:\n",
      " set\n",
      " tin\n",
      " retrospot\n",
      " paper\n",
      " pantry\n",
      " design\n",
      " cake\n",
      " tea\n",
      " 12\n",
      " vintage\n",
      "Cluster 7:\n",
      " metal\n",
      " sign\n",
      " chocolate\n",
      " hand\n",
      " box\n",
      " party\n",
      " lantern\n",
      " decoration\n",
      " holder\n",
      " top\n",
      "Cluster 8:\n",
      " cake\n",
      " case\n",
      " 60\n",
      " pack\n",
      " 72\n",
      " fairy\n",
      " set\n",
      " design\n",
      " retrospot\n",
      " hanging\n",
      "Cluster 9:\n",
      " design\n",
      " bag\n",
      " lunch\n",
      " apple\n",
      " spaceboy\n",
      " suki\n",
      " dolly\n",
      " girl\n",
      " charlotte\n",
      " alphabet\n"
     ]
    }
   ],
   "source": [
    "# Looking at the words the cluster contains (looking at 10 words)\n",
    "for i in range(K_value):\n",
    "    print(\"Cluster %d:\" % i)\n",
    "    for ind in order_centroids[i, :10]:\n",
    "        print(\" %s\" % terms[ind])"
   ]
  },
  {
   "cell_type": "code",
   "execution_count": 346,
   "metadata": {},
   "outputs": [],
   "source": [
    "# Creating a dictionary containing words from each of the 10 categories\n",
    "word_dict = {}\n",
    "\n",
    "for i in range(K_value):\n",
    "    "
   ]
  },
  {
   "cell_type": "code",
   "execution_count": null,
   "metadata": {},
   "outputs": [],
   "source": []
  }
 ],
 "metadata": {
  "kernelspec": {
   "display_name": "Python 3",
   "language": "python",
   "name": "python3"
  }
 },
 "nbformat": 4,
 "nbformat_minor": 2
}
